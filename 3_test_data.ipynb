{
 "cells": [
  {
   "cell_type": "code",
   "execution_count": 1,
   "metadata": {},
   "outputs": [],
   "source": [
    "# setup\n",
    "import pandas as pd\n",
    "import seaborn as sns\n",
    "import numpy as np\n",
    "from sklearn import linear_model\n",
    "from sklearn.metrics import mean_absolute_error, r2_score, mean_squared_error\n",
    "import clean_test_data_functions as clean_data\n",
    "pd.options.display.max_columns = None"
   ]
  },
  {
   "cell_type": "code",
   "execution_count": 2,
   "metadata": {},
   "outputs": [
    {
     "data": {
      "text/html": [
       "<div>\n",
       "<style scoped>\n",
       "    .dataframe tbody tr th:only-of-type {\n",
       "        vertical-align: middle;\n",
       "    }\n",
       "\n",
       "    .dataframe tbody tr th {\n",
       "        vertical-align: top;\n",
       "    }\n",
       "\n",
       "    .dataframe thead th {\n",
       "        text-align: right;\n",
       "    }\n",
       "</style>\n",
       "<table border=\"1\" class=\"dataframe\">\n",
       "  <thead>\n",
       "    <tr style=\"text-align: right;\">\n",
       "      <th></th>\n",
       "      <th>REACTIONS</th>\n",
       "      <th>BASE_STATS</th>\n",
       "      <th>BP_INFO</th>\n",
       "      <th>OVA</th>\n",
       "    </tr>\n",
       "  </thead>\n",
       "  <tbody>\n",
       "    <tr>\n",
       "      <th>0</th>\n",
       "      <td>66</td>\n",
       "      <td>357</td>\n",
       "      <td>63</td>\n",
       "      <td>64</td>\n",
       "    </tr>\n",
       "  </tbody>\n",
       "</table>\n",
       "</div>"
      ],
      "text/plain": [
       "   REACTIONS  BASE_STATS  BP_INFO  OVA\n",
       "0         66         357       63   64"
      ]
     },
     "execution_count": 2,
     "metadata": {},
     "output_type": "execute_result"
    }
   ],
   "source": [
    "data = pd.read_csv('fifa21_train.csv')\n",
    "data = clean_data.clean_fifa_data(data)\n",
    "data = data[['REACTIONS','BASE_STATS', 'BP_INFO','OVA']]\n",
    "#data.head(1)"
   ]
  },
  {
   "cell_type": "code",
   "execution_count": 3,
   "metadata": {},
   "outputs": [],
   "source": [
    "y = data['OVA']\n",
    "# set X to all columns, minus the target\n",
    "X = data.drop(['OVA'], axis=1)\n",
    "\n",
    "X = X.select_dtypes(include = np.number)"
   ]
  },
  {
   "cell_type": "code",
   "execution_count": 4,
   "metadata": {},
   "outputs": [],
   "source": [
    "# train/fit model \n",
    "lm = linear_model.LinearRegression()\n",
    "lm.fit(X,y)\n",
    "predictions = lm.predict(X)"
   ]
  },
  {
   "cell_type": "markdown",
   "metadata": {},
   "source": [
    "# Test Data"
   ]
  },
  {
   "cell_type": "code",
   "execution_count": 5,
   "metadata": {},
   "outputs": [],
   "source": [
    "#data_for_p = pd.read_csv()\n",
    "#data_for_p = clean_data.clean_fifa_data(data)\n",
    "#data.head(1)"
   ]
  },
  {
   "cell_type": "code",
   "execution_count": 6,
   "metadata": {},
   "outputs": [],
   "source": [
    "# predict and inspect results\n",
    "# results_for_p = lm.predict(X_for_p)\n",
    "# y_for_p = data_for_p['OVA']\n",
    "\n",
    "# pd.concat([data_for_p,pd.Series(results_for_p, name='estimate')],axis=1).head(31)"
   ]
  },
  {
   "cell_type": "code",
   "execution_count": 7,
   "metadata": {},
   "outputs": [
    {
     "name": "stdout",
     "output_type": "stream",
     "text": [
      "R2-score is  0.9792564782504277\n"
     ]
    }
   ],
   "source": [
    "print(\"R2-score is \", lm.score(X,y))\n",
    "# print(\"MSE is \", mean_squared_error(y_for_p,results_for_p))\n",
    "# print(\"RMSE-score is \", np.sqrt(mean_squared_error(y_for_p,results_for_p)))\n",
    "# print(\"MAE-score is \", mean_absolute_error(y_for_p, results_for_p))"
   ]
  }
 ],
 "metadata": {
  "kernelspec": {
   "display_name": "base",
   "language": "python",
   "name": "python3"
  },
  "language_info": {
   "codemirror_mode": {
    "name": "ipython",
    "version": 3
   },
   "file_extension": ".py",
   "mimetype": "text/x-python",
   "name": "python",
   "nbconvert_exporter": "python",
   "pygments_lexer": "ipython3",
   "version": "3.11.7"
  }
 },
 "nbformat": 4,
 "nbformat_minor": 2
}
